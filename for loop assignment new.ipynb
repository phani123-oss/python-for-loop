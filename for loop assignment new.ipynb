{
 "cells": [
  {
   "cell_type": "code",
   "execution_count": 6,
   "id": "2a5f8b8e-7922-41d7-831e-713a30b9919e",
   "metadata": {},
   "outputs": [
    {
     "name": "stdout",
     "output_type": "stream",
     "text": [
      "1 2 3 4 5 6 7 8 9 10 "
     ]
    }
   ],
   "source": [
    "#1. Write a Python program to print the numbers from 1 to 10 using a `for` loop.\n",
    "#here we are using range function: RAnge returns sequence of numbers \n",
    "for i in range(1,11):\n",
    "    print (i,end=\" \")"
   ]
  },
  {
   "cell_type": "code",
   "execution_count": 9,
   "id": "3c58bcb3-e2e7-4e19-bb8d-657e132d85d6",
   "metadata": {},
   "outputs": [
    {
     "name": "stdout",
     "output_type": "stream",
     "text": [
      "The sum of all numbers in a list is: 15\n"
     ]
    }
   ],
   "source": [
    "#2. Create a program that calculates the sum of all numbers in a list using a `for` loop.\n",
    "##taking list to calculate sum\n",
    "l=[1,2,3,4,5]\n",
    "s=0  #initilasie sum as s=0\n",
    "#loop running through list\n",
    "for i in l:\n",
    "    s+=i\n",
    "print(f\"The sum of all numbers in a list is: {s}\")\n",
    "    "
   ]
  },
  {
   "cell_type": "code",
   "execution_count": 40,
   "id": "d60b6ba5-a23d-4273-8227-da83f33b7158",
   "metadata": {},
   "outputs": [
    {
     "name": "stdin",
     "output_type": "stream",
     "text": [
      "Enter string that you want to reverse:  phani\n"
     ]
    },
    {
     "name": "stdout",
     "output_type": "stream",
     "text": [
      "i n a h p "
     ]
    }
   ],
   "source": [
    "#3. Write a program to print the characters of a string in reverse order using a `for` loop.\n",
    "#taking string \n",
    "original_string = input(\"Enter string that you want to reverse: \") \n",
    "#running loop using for loop and also using inbuilt function that is revesred fun\n",
    "for char in reversed(original_string):\n",
    "    print(char,end= \" \")"
   ]
  },
  {
   "cell_type": "code",
   "execution_count": 25,
   "id": "175976f7-990e-4350-b858-458353c78009",
   "metadata": {},
   "outputs": [
    {
     "data": {
      "text/plain": [
       "'inahp'"
      ]
     },
     "execution_count": 25,
     "metadata": {},
     "output_type": "execute_result"
    }
   ],
   "source": [
    "s=\"phani\"\n",
    "s[::-1]"
   ]
  },
  {
   "cell_type": "code",
   "execution_count": 50,
   "id": "64750693-430c-4b69-9585-d7fc9e45c5c0",
   "metadata": {},
   "outputs": [],
   "source": [
    "#4. Develop a program that finds the factorial of a given number using a `for` loop.\n",
    "#defining function to find fact\n",
    "def factorial(num):\n",
    "    #initialisng product to 1\n",
    "    product = 1\n",
    "    #loop from 1 to num+1\n",
    "    for i in range(1,num+1):\n",
    "        #logic to find factorial\n",
    "        product = product*i\n",
    "    return product     "
   ]
  },
  {
   "cell_type": "code",
   "execution_count": 51,
   "id": "f0746926-3fb8-49e0-a2cd-f47adae208a0",
   "metadata": {},
   "outputs": [
    {
     "data": {
      "text/plain": [
       "120"
      ]
     },
     "execution_count": 51,
     "metadata": {},
     "output_type": "execute_result"
    }
   ],
   "source": [
    "factorial(5)"
   ]
  },
  {
   "cell_type": "code",
   "execution_count": 65,
   "id": "ee0bb36d-af2a-40d5-b62b-faf028d22747",
   "metadata": {},
   "outputs": [
    {
     "name": "stdin",
     "output_type": "stream",
     "text": [
      "enter any number to find table:  5\n"
     ]
    },
    {
     "name": "stdout",
     "output_type": "stream",
     "text": [
      "5 * 1 = 5\n",
      "5 * 2 = 10\n",
      "5 * 3 = 15\n",
      "5 * 4 = 20\n",
      "5 * 5 = 25\n",
      "5 * 6 = 30\n",
      "5 * 7 = 35\n",
      "5 * 8 = 40\n",
      "5 * 9 = 45\n",
      "5 * 10 = 50\n"
     ]
    }
   ],
   "source": [
    "#taking number to find multiplication\n",
    "x = int(input(\"enter any number to find table: \"))\n",
    "#taking numbers from 1 to 10 using for loop\n",
    "for i in range(1,11):\n",
    "        #logic to find multiplication\n",
    "    x * i == x * i\n",
    "    print(x,'*',i, '=' ,x*i)\n",
    "    "
   ]
  },
  {
   "cell_type": "code",
   "execution_count": 74,
   "id": "3c5ea270-255c-4e0c-a224-36c315ea374b",
   "metadata": {},
   "outputs": [
    {
     "name": "stdout",
     "output_type": "stream",
     "text": [
      "sum of all numbers in a list is:  21\n",
      "sum of even numbers in a list is:  12\n",
      "sum of odd numbers in a list is:  9\n"
     ]
    }
   ],
   "source": [
    "#6. Write a program that counts the number of even and odd numbers in a list using a `for` loop.\n",
    "#taking list \n",
    "l = [1,2,3,4,5,6]\n",
    "#initialise count to 0\n",
    "count = 0\n",
    "for i in l:\n",
    "    count += i\n",
    "print(\"sum of all numbers in a list is: \",count)\n",
    "#logic to count no.of even numbers in list\n",
    "#initialsing counts c1 and c2 to 0 for even and odd numbers count\n",
    "c1=0\n",
    "c2=0\n",
    "for i in l:\n",
    "    #condition to even numbers\n",
    "    if i%2 == 0:\n",
    "        c1+=i\n",
    "    else:\n",
    "        c2+=i\n",
    "print(\"sum of even numbers in a list is: \",c1)\n",
    "print(\"sum of odd numbers in a list is: \",c2)\n",
    "      "
   ]
  },
  {
   "cell_type": "code",
   "execution_count": 85,
   "id": "f1c08ec6-cda5-467f-abc7-6b6dbbeed424",
   "metadata": {},
   "outputs": [
    {
     "name": "stdout",
     "output_type": "stream",
     "text": [
      "1^2 = 1\n",
      "2^2 = 4\n",
      "3^2 = 9\n",
      "4^2 = 16\n",
      "5^2 = 25\n"
     ]
    }
   ],
   "source": [
    "#7. Develop a program that prints the squares of numbers from 1 to 5 using a `for` loop.\n",
    "#loop for squares of numbers from 1 to 5 using for loop\n",
    "#initialising product to 1\n",
    "product = 1\n",
    "for i in range(1,6):\n",
    "    product = i*i\n",
    "    print(f\"{i}^2 = {product}\")    "
   ]
  },
  {
   "cell_type": "code",
   "execution_count": 87,
   "id": "a62d89cd-9c6c-4b40-bd37-5030a36b8356",
   "metadata": {},
   "outputs": [
    {
     "name": "stdin",
     "output_type": "stream",
     "text": [
      "enter any string to find length:  phani\n"
     ]
    },
    {
     "name": "stdout",
     "output_type": "stream",
     "text": [
      "length of given string is:  5\n"
     ]
    }
   ],
   "source": [
    "#8. Create a program to find the length of a string without using the `len()` function.\n",
    "x = input(\"enter any string to find length: \")\n",
    "#initialise length to 0\n",
    "length = 0\n",
    "#loop for string\n",
    "for i in x:\n",
    "    #logic to find length using global variable\n",
    "    length += 1\n",
    "print(\"length of given string is: \",length)"
   ]
  },
  {
   "cell_type": "code",
   "execution_count": 91,
   "id": "ef002c1a-62c4-4ff8-ac93-d08dafb3373c",
   "metadata": {},
   "outputs": [
    {
     "name": "stdout",
     "output_type": "stream",
     "text": [
      "The average of list of numbers [1, 2, 3, 4, 5] is --> 3\n"
     ]
    }
   ],
   "source": [
    "#9. Write a program that calculates the average of a list of numbers using a `for` loop.\n",
    "#taking list to find average\n",
    "l=[1,2,3,4,5]\n",
    "average = 0\n",
    "for i in l:\n",
    "    #formula = sum of no's / total numbers\n",
    "    #using inbuilt functions sum and len functions to find average \n",
    "    #logic is below\n",
    "    average = sum(l)//len(l)\n",
    "print(f\"The average of list of numbers {l} is --> {average}\")   "
   ]
  },
  {
   "cell_type": "code",
   "execution_count": 118,
   "id": "e1b1a1ef-7840-48ef-8eda-8ec1edb5bd8b",
   "metadata": {},
   "outputs": [],
   "source": [
    "#defining function to find finocci sequence\n",
    "def fibanocci(num):\n",
    "    #taking series list with 0,1 beacuse of series starts with 0 and 1 only\n",
    "    #if num = 0 we have 0 and if num is 1 we have 0,1 \n",
    "    series = [0,1]\n",
    "    addition = []\n",
    "    #loop from 2 to num+1, here 2 was taken beacuse we have already taken a list with 0,1\n",
    "    for i in range(2,num+1):\n",
    "        #logic to find factorial\n",
    "        addition = fibanocci(i-1) + fibanocci(i-2)\n",
    "        #we are appending or logic to our series that we are initialised\n",
    "        series.append(addition)\n",
    "    return series[num]"
   ]
  },
  {
   "cell_type": "code",
   "execution_count": 119,
   "id": "d5a2b984-f00d-428b-b170-e71124208ad9",
   "metadata": {},
   "outputs": [
    {
     "data": {
      "text/plain": [
       "2"
      ]
     },
     "execution_count": 119,
     "metadata": {},
     "output_type": "execute_result"
    }
   ],
   "source": [
    "fibanocci(3)"
   ]
  },
  {
   "cell_type": "code",
   "execution_count": 138,
   "id": "2daacee8-c741-4396-84a9-64a2cc72e97b",
   "metadata": {},
   "outputs": [
    {
     "name": "stdout",
     "output_type": "stream",
     "text": [
      "list contains duplicate elements\n"
     ]
    }
   ],
   "source": [
    "#11. Write a program to check if a given list contains any duplicates using a `for` loop.\n",
    "#taking list with duplicate elements\n",
    "l=[1,2,2,3,4,5,5,6,7]\n",
    "#taking flag variable\n",
    "has_duplicates = False\n",
    "#taking nested for loop to compare elements \n",
    "for i in range(len(l)):\n",
    "    for j in range(i+1,len(l)):\n",
    "        #logic for equal of elements\n",
    "        if l[i] == l[j]:\n",
    "            has_duplicates = True\n",
    "        break\n",
    "        \n",
    "if has_duplicates == True:\n",
    "    print(\"list contains duplicate elements\")\n",
    "else:\n",
    "    print(\"list has no duplicate elements\")"
   ]
  },
  {
   "cell_type": "code",
   "execution_count": 142,
   "id": "f45b38ce-eea9-4941-9c8e-23e963b1d418",
   "metadata": {},
   "outputs": [
    {
     "name": "stdout",
     "output_type": "stream",
     "text": [
      "3 5 7 9 11 13 15 17 19 21 23 25 27 29 31 33 35 37 39 41 43 45 47 49 51 53 55 "
     ]
    }
   ],
   "source": [
    "#12. Create a program that prints the prime numbers in a given range using a `for` loop.\n",
    "#defining function \n",
    "def isPrime(num):\n",
    "    #prime numbers starts from 2 \n",
    "    #conition for 0 and 1 numbers\n",
    "    if (num==0 or num==1):\n",
    "        return False\n",
    "    for i in range(2,num):\n",
    "        #if number is divisible then that is not prime necause prime has divisors 1 and itself\n",
    "        if num % i == 0:\n",
    "            return False\n",
    "        return True\n",
    "#driver code   \n",
    "num = 56\n",
    "#loop for finding prime numbers\n",
    "for i in range(1,num+1):\n",
    "    if isPrime(i):\n",
    "        print(i,end=\" \")"
   ]
  },
  {
   "cell_type": "code",
   "execution_count": 157,
   "id": "1163cc7d-0baa-475a-ad71-b4d9ff4eabcb",
   "metadata": {},
   "outputs": [
    {
     "name": "stdin",
     "output_type": "stream",
     "text": [
      "Enter any string to find vowels:  suryachandrasuresh\n"
     ]
    },
    {
     "name": "stdout",
     "output_type": "stream",
     "text": [
      "no.of vowels in given string is:  6\n",
      "vowels list for given string is:  ['u', 'a', 'a', 'a', 'u', 'e']\n"
     ]
    }
   ],
   "source": [
    "#13. Develop a program that counts the number of vowels in a string using a `for` loop.\n",
    "#taking string\n",
    "x = input(\"Enter any string to find vowels: \")\n",
    "#vowels list\n",
    "vowels = ['a','e','i','o','u','A','E','I','O','U']\n",
    "#initialisng count to 0 to count no.of vowels\n",
    "count=0\n",
    "vowel_list = []\n",
    "#loop for each alphabet in string\n",
    "for i in x:\n",
    "    #condition to check vowel is present in string\n",
    "    if i in vowels:\n",
    "        vowel_list.append(i)\n",
    "        count+=1\n",
    "print(\"no.of vowels in given string is: \",count)\n",
    "print(\"vowels list for given string is: \",vowel_list)"
   ]
  },
  {
   "cell_type": "code",
   "execution_count": 165,
   "id": "a9831e66-077b-490f-a68d-0e7d9576ce80",
   "metadata": {},
   "outputs": [
    {
     "name": "stdout",
     "output_type": "stream",
     "text": [
      "[7, 5]\n",
      "[7, 5]\n",
      "[7, 5]\n",
      "[7, 5]\n"
     ]
    }
   ],
   "source": [
    "#14. Write a program to find the maximum element in a 2D list using a nested `for` loop.\n",
    "#taking 2d list\n",
    "l=[[1,2],[2,3],[5,6],[7,5]]\n",
    "for i in range(len(l)):\n",
    "    print(max(l))"
   ]
  },
  {
   "cell_type": "code",
   "execution_count": 166,
   "id": "fd2687c2-fe6c-4644-ab74-9186debe99ca",
   "metadata": {},
   "outputs": [
    {
     "name": "stdout",
     "output_type": "stream",
     "text": [
      "f_t = 93 c\n",
      "f_t = 1 c\n",
      "f_t = 4 c\n",
      "f_t = 26 c\n",
      "f_t = 43 c\n"
     ]
    }
   ],
   "source": [
    "#17. Write a program that converts a list of Fahrenheit temperatures to Celsius using a `for` loop.\n",
    "fahrenheit_temperature=[201,35,40,80,110]\n",
    "\n",
    "\n",
    "for fahrenheit  in fahrenheit_temperature :\n",
    "    celsius=int((fahrenheit-32)*(5/9))\n",
    "    print(\"f_t\",\"=\",celsius,\"c\")"
   ]
  },
  {
   "cell_type": "code",
   "execution_count": 167,
   "id": "a8c36a6a-b653-4613-9c6e-133b47d7140d",
   "metadata": {},
   "outputs": [
    {
     "name": "stdout",
     "output_type": "stream",
     "text": [
      "* \n",
      "* * \n",
      "* * * \n",
      "* * * * \n",
      "* * * * * \n"
     ]
    }
   ],
   "source": [
    "#19. Develop a program that prints the pattern of right-angled triangles using a `for` loop. Use ‘*’ to draw the\n",
    "#pattern\n",
    "#loop for rows\n",
    "for i in range(5):\n",
    "    #loop for coloumns\n",
    "    for j in range(i+1):\n",
    "        print(\"*\",end=' ')\n",
    "    print()    "
   ]
  },
  {
   "cell_type": "code",
   "execution_count": 170,
   "id": "454fec7f-de2d-4b0a-b68b-f21bba55c2e1",
   "metadata": {},
   "outputs": [
    {
     "name": "stdout",
     "output_type": "stream",
     "text": [
      "common elements are:  1\n",
      "common elements are:  4\n",
      "common elements are:  5\n",
      "common elements are:  6\n"
     ]
    }
   ],
   "source": [
    "#18. Create a program to print the common elements from two lists using a `for` loop.\n",
    "l1=[1,2,3,4,5,6,7,8]\n",
    "l2=[1,4,9,6,11,5,12]\n",
    "\n",
    "#itterate element in l1\n",
    "for i in l1:\n",
    "#checking if the same element in l2    \n",
    "    if i in l2:\n",
    "        print(\"common elements are: \",i)"
   ]
  },
  {
   "cell_type": "code",
   "execution_count": 173,
   "id": "8781e429-4ac1-49b7-9176-9917a1501844",
   "metadata": {},
   "outputs": [
    {
     "name": "stdout",
     "output_type": "stream",
     "text": [
      "gcd of 24 and 36 is <function gcd at 0x7fc06c5b55a0>\n"
     ]
    }
   ],
   "source": [
    "#20. Write a program to find the greatest common divisor (GCD) of two numbers using a `for` loop.\n",
    "def gcd(a,b):\n",
    "    #finding small number\n",
    "    if a>b:\n",
    "            smaller=b\n",
    "    else:     \n",
    "            smaller=a\n",
    "#iterate loop 1 to smaller number\n",
    "    for i in range(1,smaller+1):\n",
    "#checking i is a divisor both given numbers\n",
    "        if a%i==0 and b%i==0:\n",
    "            gcd\n",
    "            return gcd\n",
    "\n",
    "#printing result\n",
    "a = 24\n",
    "b = 36\n",
    "gcd(a, b)\n",
    "print(\"gcd of\", a ,\"and\" ,b, \"is\" ,gcd(a,b))"
   ]
  },
  {
   "cell_type": "code",
   "execution_count": null,
   "id": "81c2fc4f-c895-41b4-ba82-fd384791da46",
   "metadata": {},
   "outputs": [],
   "source": []
  }
 ],
 "metadata": {
  "kernelspec": {
   "display_name": "Python 3 (ipykernel)",
   "language": "python",
   "name": "python3"
  },
  "language_info": {
   "codemirror_mode": {
    "name": "ipython",
    "version": 3
   },
   "file_extension": ".py",
   "mimetype": "text/x-python",
   "name": "python",
   "nbconvert_exporter": "python",
   "pygments_lexer": "ipython3",
   "version": "3.10.8"
  }
 },
 "nbformat": 4,
 "nbformat_minor": 5
}
